{
 "cells": [
  {
   "cell_type": "code",
   "execution_count": 40,
   "id": "b95583f7-476f-4055-9b81-b38bf4d96528",
   "metadata": {},
   "outputs": [
    {
     "name": "stdout",
     "output_type": "stream",
     "text": [
      "The autoreload extension is already loaded. To reload it, use:\n",
      "  %reload_ext autoreload\n"
     ]
    }
   ],
   "source": [
    "%load_ext autoreload\n",
    "%autoreload 2\n",
    "\n",
    "\n",
    "from keras.models import Sequential\n",
    "from keras.layers import Dense\n",
    "from keras.layers import Dropout\n",
    "# import keras_tuner as kt\n",
    "\n",
    "from sklearn.preprocessing import StandardScaler\n",
    "\n",
    "\n",
    "import os\n",
    "import datetime\n",
    "import seaborn as sns\n",
    "\n",
    "import pandas as pd\n",
    "import numpy as np\n",
    "\n",
    "from functions import *\n",
    "\n",
    "\n",
    "\n",
    "from sklearn import preprocessing\n",
    "\n",
    "from sklearn.linear_model import Ridge\n",
    "\n",
    "\n",
    "\n",
    "pd.set_option('display.max_columns', None)\n",
    "pd.set_option('display.max_rows', 50)"
   ]
  },
  {
   "cell_type": "code",
   "execution_count": 14,
   "id": "044ebbd6-a9c4-43ca-a568-f9171b6e9357",
   "metadata": {},
   "outputs": [],
   "source": [
    "def nn_pscore_model1(input_size = 36):\n",
    "    '''\n",
    "    Returns a compiled keras model\n",
    "    '''\n",
    "    model = Sequential()\n",
    "    model.add(Dense(30, input_dim = input_size, activation = 'relu'))\n",
    "    model.add(Dense(30, activation = 'relu'))\n",
    "    model.add(Dense(1, activation = 'sigmoid'))\n",
    "    model.compile(loss='binary_crossentropy', optimizer='adam', metrics=['accuracy'])\n",
    "    # model.name=\"NAME\"\n",
    "    return model"
   ]
  },
  {
   "cell_type": "code",
   "execution_count": 89,
   "id": "c12569d8-f2c2-4642-b0b3-cb7478258a46",
   "metadata": {},
   "outputs": [],
   "source": [
    "def generate_covariates(data_num, pscore_model, outcome_model, normalize = False):\n",
    "    y, X, cf_X = reformat_data_2(data_num)\n",
    "    z, X_pscore = reformat_data_pscore(data_num, drop_first_dummies = False, normalize = normalize) #drop first false for NN model\n",
    "    \n",
    "    \n",
    "    \n",
    "    # outcome regression\n",
    "    outcome_model.fit(X, y)\n",
    "    cf_y = outcome_model.predict(cf_X)\n",
    "    \n",
    "    # propensity score estimation\n",
    "    pscore_model.fit(X_pscore, z, epochs = 150, batch_size = 32, verbose = 0)\n",
    "    p_scores = pscore_model.predict(X_pscore)\n",
    "    visualize_pscore(p_scores, z)\n",
    "    \n",
    "    outcomes, results, _ = reformat_data_2(data_num, drop_first_dummies = False)\n",
    "    results['p_score'] = p_scores \n",
    "    results['cf_Y'] = cf_y\n",
    "    return outcomes, results\n",
    "    "
   ]
  },
  {
   "cell_type": "code",
   "execution_count": 92,
   "id": "013c7fca-702b-4a9e-99fa-7fe8eed84af9",
   "metadata": {},
   "outputs": [
    {
     "data": {
      "text/plain": [
       "(0      1037.217510\n",
       " 1      1218.815467\n",
       " 2      1334.714499\n",
       " 3      1337.227184\n",
       " 4      1266.273917\n",
       "           ...     \n",
       " 995    1155.731942\n",
       " 996    1143.146744\n",
       " 997    1238.548082\n",
       " 998     973.693394\n",
       " 999    1076.348868\n",
       " Name: Y, Length: 1000, dtype: float64,\n",
       "      year  Z  n.patients     V1_avg    V2_avg    V3_avg    V4_avg  V5_A_avg  \\\n",
       " 0       3  0         422  11.289510  2.933649  0.533175  0.073811  0.734597   \n",
       " 1       4  0         399  11.288839  2.979950  0.548872  0.077572  0.729323   \n",
       " 2       3  0         553  11.519129  3.027125  0.511754 -0.048760  0.824593   \n",
       " 3       4  0         562  11.634449  2.975089  0.519573 -0.019508  0.823843   \n",
       " 4       3  0         809  11.634021  2.970334  0.574784  0.153454  0.546354   \n",
       " ..    ... ..         ...        ...       ...       ...       ...       ...   \n",
       " 995     4  0        1085  11.696356  2.974194  0.489401 -0.216472  0.719816   \n",
       " 996     3  1         511  11.521370  3.088063  0.545988 -0.105939  0.837573   \n",
       " 997     4  1         516  11.609310  3.085271  0.532946 -0.122384  0.843023   \n",
       " 998     3  0         413  11.848095  3.055690  0.508475 -0.147180  0.745763   \n",
       " 999     4  0         428  11.827031  3.044393  0.490654 -0.118297  0.745327   \n",
       " \n",
       "      V5_B_avg  V5_C_avg  X1  X3  X5         X6         X7        X8  \\\n",
       " 0    0.201422  0.063981   0   0   1  42.835960  10.842767  0.358268   \n",
       " 1    0.200501  0.070175   0   0   1  42.835960  10.842767  0.358268   \n",
       " 2    0.139241  0.036166   1   0   0  23.579052   6.382830  0.412772   \n",
       " 3    0.140569  0.035587   1   0   0  23.579052   6.382830  0.412772   \n",
       " 4    0.276885  0.176761   0   1   0  25.039323   8.294091  0.292425   \n",
       " ..        ...       ...  ..  ..  ..        ...        ...       ...   \n",
       " 995  0.223963  0.056221   0   1   0  25.879100   7.717149  0.289624   \n",
       " 996  0.123288  0.039139   0   0   0  17.999304   7.596685  0.499809   \n",
       " 997  0.118217  0.038760   0   0   0  17.999304   7.596685  0.499809   \n",
       " 998  0.142857  0.111380   0   1   1  17.820099  16.268303  0.438344   \n",
       " 999  0.137850  0.116822   0   1   1  17.820099  16.268303  0.438344   \n",
       " \n",
       "             X9  X2_A  X2_B  X2_C  X4_A  X4_B  X4_C  V1_avg_lag1  V2_avg_lag1  \\\n",
       " 0    65.472743     1     0     0     1     0     0    11.136981     2.986702   \n",
       " 1    65.472743     1     0     0     1     0     0    11.289510     2.933649   \n",
       " 2    49.149054     1     0     0     1     0     0    11.475560     3.041367   \n",
       " 3    49.149054     1     0     0     1     0     0    11.519129     3.027125   \n",
       " 4    12.475294     0     0     1     1     0     0    11.516117     2.955610   \n",
       " ..         ...   ...   ...   ...   ...   ...   ...          ...          ...   \n",
       " 995  71.266440     1     0     0     0     0     1    11.657376     2.970350   \n",
       " 996  17.066090     1     0     0     0     1     0    11.611812     3.076775   \n",
       " 997  17.066090     1     0     0     0     1     0    11.521370     3.088063   \n",
       " 998  -5.735810     1     0     0     0     1     0    11.854604     3.081683   \n",
       " 999  -5.735810     1     0     0     0     1     0    11.848095     3.055690   \n",
       " \n",
       "      V3_avg_lag1  V4_avg_lag1  V5_A_avg_lag1  V5_B_avg_lag1  V5_C_avg_lag1  \\\n",
       " 0       0.534574     0.083710       0.734043       0.207447       0.058511   \n",
       " 1       0.533175     0.073811       0.734597       0.201422       0.063981   \n",
       " 2       0.539568     0.024494       0.820144       0.140288       0.039568   \n",
       " 3       0.511754    -0.048760       0.824593       0.139241       0.036166   \n",
       " 4       0.581998     0.164000       0.559803       0.272503       0.167694   \n",
       " ..           ...          ...            ...            ...            ...   \n",
       " 995     0.498652    -0.195884       0.720575       0.226415       0.053010   \n",
       " 996     0.522073    -0.150616       0.846449       0.117083       0.036468   \n",
       " 997     0.545988    -0.105939       0.837573       0.123288       0.039139   \n",
       " 998     0.502475    -0.163755       0.750000       0.143564       0.106436   \n",
       " 999     0.508475    -0.147180       0.745763       0.142857       0.111380   \n",
       " \n",
       "      V1_avg_lag2  V2_avg_lag2  V3_avg_lag2  V4_avg_lag2  V5_A_avg_lag2  \\\n",
       " 0      11.195274     3.002558     0.534527     0.080206       0.736573   \n",
       " 1      11.136981     2.986702     0.534574     0.083710       0.734043   \n",
       " 2      11.608887     3.016423     0.543796     0.024776       0.815693   \n",
       " 3      11.475560     3.041367     0.539568     0.024494       0.820144   \n",
       " 4      11.403704     2.938950     0.592186     0.174216       0.551893   \n",
       " ..           ...          ...          ...          ...            ...   \n",
       " 995    11.716318     2.982285     0.495128    -0.186493       0.726306   \n",
       " 996    11.646804     3.055762     0.501859    -0.188869       0.855019   \n",
       " 997    11.611812     3.076775     0.522073    -0.150616       0.846449   \n",
       " 998    11.954812     3.084507     0.483568    -0.200969       0.753521   \n",
       " 999    11.854604     3.081683     0.502475    -0.163755       0.750000   \n",
       " \n",
       "      V5_B_avg_lag2  V5_C_avg_lag2   p_score         cf_Y  \n",
       " 0         0.207161       0.056266  0.017616  1192.178921  \n",
       " 1         0.207447       0.058511  0.022287  1320.879699  \n",
       " 2         0.145985       0.038321  0.112084  1226.424912  \n",
       " 3         0.140288       0.039568  0.123678  1338.658780  \n",
       " 4         0.275946       0.172161  0.823107  1324.142356  \n",
       " ..             ...            ...       ...          ...  \n",
       " 995       0.226749       0.046944  0.008509  1142.581829  \n",
       " 996       0.111524       0.033457  0.960507  1122.207313  \n",
       " 997       0.117083       0.036468  0.965122  1264.629789  \n",
       " 998       0.138498       0.107981  0.280368  1106.348652  \n",
       " 999       0.143564       0.106436  0.291763  1252.168221  \n",
       " \n",
       " [1000 rows x 39 columns])"
      ]
     },
     "execution_count": 92,
     "metadata": {},
     "output_type": "execute_result"
    },
    {
     "data": {
      "image/png": "[encoded data removed]",
      "text/plain": [
       "<Figure size 720x720 with 1 Axes>"
      ]
     },
     "metadata": {
      "needs_background": "light"
     },
     "output_type": "display_data"
    }
   ],
   "source": [
    "generate_covariates(124, nn_pscore_model1(), Ridge(alpha = 10))"
   ]
  },
  {
   "cell_type": "code",
   "execution_count": null,
   "id": "7cfbe3f3-7746-4f6f-9a8e-ae0e0530d229",
   "metadata": {},
   "outputs": [],
   "source": []
  }
 ],
 "metadata": {
  "kernelspec": {
   "display_name": "Python 3 (ipykernel)",
   "language": "python",
   "name": "python3"
  },
  "language_info": {
   "codemirror_mode": {
    "name": "ipython",
    "version": 3
   },
   "file_extension": ".py",
   "mimetype": "text/x-python",
   "name": "python",
   "nbconvert_exporter": "python",
   "pygments_lexer": "ipython3",
   "version": "3.9.7"
  }
 },
 "nbformat": 4,
 "nbformat_minor": 5
}
